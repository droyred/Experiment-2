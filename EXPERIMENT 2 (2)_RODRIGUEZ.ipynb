{
 "cells": [
  {
   "cell_type": "markdown",
   "id": "e3855be2-ed8b-42f9-9c61-45c4e1761dca",
   "metadata": {},
   "source": [
    "# EXPERIMENT 2 - RODRIGUEZ, Andrei Joshua\n",
    "I. Intended Learning Outcomes:\n",
    "1. To identify the codes and functions incorporated in the Numpy library\n",
    "2. To be able to apply and use the different codes and functions in creating a Python program using a Numpy library"
   ]
  },
  {
   "cell_type": "markdown",
   "id": "754f4e0f-3fb6-4830-9f76-f7400ea0e6e2",
   "metadata": {},
   "source": [
    "**2. DIVISIBLE BY 3 PROBLEM**: Create the following 10 x 10 ndarray."
   ]
  },
  {
   "cell_type": "code",
   "execution_count": 15,
   "id": "ad646109-cb08-4106-a225-8cae3a59ef2e",
   "metadata": {},
   "outputs": [],
   "source": [
    "import numpy as np"
   ]
  },
  {
   "cell_type": "code",
   "execution_count": 25,
   "id": "3de265ae-3fba-4aa4-8d13-3c251884464b",
   "metadata": {},
   "outputs": [
    {
     "data": {
      "text/plain": [
       "array([  1,   2,   3,   4,   5,   6,   7,   8,   9,  10,  11,  12,  13,\n",
       "        14,  15,  16,  17,  18,  19,  20,  21,  22,  23,  24,  25,  26,\n",
       "        27,  28,  29,  30,  31,  32,  33,  34,  35,  36,  37,  38,  39,\n",
       "        40,  41,  42,  43,  44,  45,  46,  47,  48,  49,  50,  51,  52,\n",
       "        53,  54,  55,  56,  57,  58,  59,  60,  61,  62,  63,  64,  65,\n",
       "        66,  67,  68,  69,  70,  71,  72,  73,  74,  75,  76,  77,  78,\n",
       "        79,  80,  81,  82,  83,  84,  85,  86,  87,  88,  89,  90,  91,\n",
       "        92,  93,  94,  95,  96,  97,  98,  99, 100])"
      ]
     },
     "execution_count": 25,
     "metadata": {},
     "output_type": "execute_result"
    }
   ],
   "source": [
    "int = np.arange(1, 101)\n",
    "int"
   ]
  },
  {
   "cell_type": "code",
   "execution_count": 27,
   "id": "0d7d4b59-712a-43a0-b520-fb91931f00ff",
   "metadata": {},
   "outputs": [
    {
     "data": {
      "text/plain": [
       "array([[    1,     4,     9,    16,    25,    36,    49,    64,    81,\n",
       "          100],\n",
       "       [  121,   144,   169,   196,   225,   256,   289,   324,   361,\n",
       "          400],\n",
       "       [  441,   484,   529,   576,   625,   676,   729,   784,   841,\n",
       "          900],\n",
       "       [  961,  1024,  1089,  1156,  1225,  1296,  1369,  1444,  1521,\n",
       "         1600],\n",
       "       [ 1681,  1764,  1849,  1936,  2025,  2116,  2209,  2304,  2401,\n",
       "         2500],\n",
       "       [ 2601,  2704,  2809,  2916,  3025,  3136,  3249,  3364,  3481,\n",
       "         3600],\n",
       "       [ 3721,  3844,  3969,  4096,  4225,  4356,  4489,  4624,  4761,\n",
       "         4900],\n",
       "       [ 5041,  5184,  5329,  5476,  5625,  5776,  5929,  6084,  6241,\n",
       "         6400],\n",
       "       [ 6561,  6724,  6889,  7056,  7225,  7396,  7569,  7744,  7921,\n",
       "         8100],\n",
       "       [ 8281,  8464,  8649,  8836,  9025,  9216,  9409,  9604,  9801,\n",
       "        10000]])"
      ]
     },
     "execution_count": 27,
     "metadata": {},
     "output_type": "execute_result"
    }
   ],
   "source": [
    "square = int ** 2\n",
    "ndarray = square.reshape ((10,10))\n",
    "ndarray"
   ]
  },
  {
   "cell_type": "code",
   "execution_count": 29,
   "id": "dd20a9ab-9444-4068-bcff-0e55d484d557",
   "metadata": {},
   "outputs": [
    {
     "data": {
      "text/plain": [
       "array([   9,   36,   81,  144,  225,  324,  441,  576,  729,  900, 1089,\n",
       "       1296, 1521, 1764, 2025, 2304, 2601, 2916, 3249, 3600, 3969, 4356,\n",
       "       4761, 5184, 5625, 6084, 6561, 7056, 7569, 8100, 8649, 9216, 9801])"
      ]
     },
     "execution_count": 29,
     "metadata": {},
     "output_type": "execute_result"
    }
   ],
   "source": [
    "div_by_3 = ndarray[ndarray % 3 == 0]\n",
    "div_by_3"
   ]
  },
  {
   "cell_type": "code",
   "execution_count": null,
   "id": "c61206bd-cf55-4df2-bf53-12aa12584830",
   "metadata": {},
   "outputs": [],
   "source": []
  }
 ],
 "metadata": {
  "kernelspec": {
   "display_name": "Python 3 (ipykernel)",
   "language": "python",
   "name": "python3"
  },
  "language_info": {
   "codemirror_mode": {
    "name": "ipython",
    "version": 3
   },
   "file_extension": ".py",
   "mimetype": "text/x-python",
   "name": "python",
   "nbconvert_exporter": "python",
   "pygments_lexer": "ipython3",
   "version": "3.12.4"
  }
 },
 "nbformat": 4,
 "nbformat_minor": 5
}

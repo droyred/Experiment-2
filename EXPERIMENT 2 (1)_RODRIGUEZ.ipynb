{
 "cells": [
  {
   "cell_type": "markdown",
   "id": "a329f386-759c-4d0b-b96d-f965ec7e9385",
   "metadata": {},
   "source": [
    "# EXPERIMENT 1 - RODRIGUEZ, Andrei Joshua\n",
    "I. Intended Learning Outcomes:\n",
    "1. To identify the codes and functions incorporated in the Numpy library\n",
    "2. To be able to apply and use the different codes and functions in creating a Python program using a Numpy library"
   ]
  },
  {
   "cell_type": "markdown",
   "id": "d11f03c7-1be6-49b0-8a06-61b2fc8be00a",
   "metadata": {},
   "source": [
    "*Write a Python script/code in the Jupyter Notebook to do the given problems.*\n",
    "\n",
    "**1. NORMALIZATION PROBLEM**: Normalization is one of the most basic preprocessing techniques in data analytics. This involves centering and scaling process. Centering means subtracting the data from the mean and scaling means dividing with its standard deviation. "
   ]
  },
  {
   "cell_type": "code",
   "execution_count": 5,
   "id": "122db495-914b-45f2-9351-f6ae05c1ed49",
   "metadata": {},
   "outputs": [],
   "source": [
    "import numpy as np"
   ]
  },
  {
   "cell_type": "code",
   "execution_count": 7,
   "id": "28f70527-aad2-46b4-a464-653284993dfa",
   "metadata": {},
   "outputs": [
    {
     "data": {
      "text/plain": [
       "array([[0.57679701, 0.40751919, 0.20306646, 0.91878428, 0.47160795],\n",
       "       [0.48901439, 0.40241186, 0.73207587, 0.91076389, 0.83694066],\n",
       "       [0.82706292, 0.13266376, 0.16829922, 0.24858471, 0.25778146],\n",
       "       [0.83923417, 0.90317733, 0.52468257, 0.47256304, 0.59064082],\n",
       "       [0.6123263 , 0.21451885, 0.63783689, 0.45195918, 0.88013547]])"
      ]
     },
     "execution_count": 7,
     "metadata": {},
     "output_type": "execute_result"
    }
   ],
   "source": [
    "x = np.random.random ((5,5))\n",
    "x"
   ]
  },
  {
   "cell_type": "code",
   "execution_count": 9,
   "id": "dd239ad2-8b73-4909-a322-ca7147b585a5",
   "metadata": {},
   "outputs": [
    {
     "data": {
      "text/plain": [
       "array([[ 0.11264004, -0.55924433, -1.37074223,  1.47002934, -0.30486819],\n",
       "       [-0.23577993, -0.57951594,  0.72896082,  1.43819545,  1.14518202],\n",
       "       [ 1.10597606, -1.65017919, -1.50873765, -1.19007474, -1.15357172],\n",
       "       [ 1.15428524,  1.40808346, -0.09420855, -0.30107732,  0.16758781],\n",
       "       [ 0.25366014, -1.32528631,  0.35491479, -0.38285657,  1.31662749]])"
      ]
     },
     "execution_count": 9,
     "metadata": {},
     "output_type": "execute_result"
    }
   ],
   "source": [
    "z = (x - x.mean())/x.std()\n",
    "z"
   ]
  }
 ],
 "metadata": {
  "kernelspec": {
   "display_name": "Python 3 (ipykernel)",
   "language": "python",
   "name": "python3"
  },
  "language_info": {
   "codemirror_mode": {
    "name": "ipython",
    "version": 3
   },
   "file_extension": ".py",
   "mimetype": "text/x-python",
   "name": "python",
   "nbconvert_exporter": "python",
   "pygments_lexer": "ipython3",
   "version": "3.12.4"
  }
 },
 "nbformat": 4,
 "nbformat_minor": 5
}
